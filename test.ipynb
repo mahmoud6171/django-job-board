{
 "cells": [
  {
   "cell_type": "code",
   "execution_count": 2,
   "metadata": {},
   "outputs": [
    {
     "name": "stdout",
     "output_type": "stream",
     "text": [
      "Collecting gradio\n",
      "  Downloading gradio-3.23.0-py3-none-any.whl (15.8 MB)\n",
      "     -------------------------------------- 15.8/15.8 MB 924.2 kB/s eta 0:00:00\n",
      "Requirement already satisfied: huggingface-hub in c:\\users\\mamoud saeed\\appdata\\local\\programs\\python\\python310\\lib\\site-packages (from gradio) (0.9.1)\n",
      "Requirement already satisfied: pydantic in c:\\users\\mamoud saeed\\appdata\\local\\programs\\python\\python310\\lib\\site-packages (from gradio) (1.9.2)\n",
      "Collecting altair>=4.2.0\n",
      "  Using cached altair-4.2.2-py3-none-any.whl (813 kB)\n",
      "Collecting fastapi\n",
      "  Downloading fastapi-0.95.0-py3-none-any.whl (57 kB)\n",
      "     -------------------------------------- 57.1/57.1 KB 743.2 kB/s eta 0:00:00\n",
      "Requirement already satisfied: jinja2 in c:\\users\\mamoud saeed\\appdata\\local\\programs\\python\\python310\\lib\\site-packages (from gradio) (3.1.2)\n",
      "Collecting python-multipart\n",
      "  Downloading python_multipart-0.0.6-py3-none-any.whl (45 kB)\n",
      "     ---------------------------------------- 45.7/45.7 KB 1.1 MB/s eta 0:00:00\n",
      "Requirement already satisfied: typing-extensions in c:\\users\\mamoud saeed\\appdata\\local\\programs\\python\\python310\\lib\\site-packages (from gradio) (4.2.0)\n",
      "Collecting mdit-py-plugins<=0.3.3\n",
      "  Downloading mdit_py_plugins-0.3.3-py3-none-any.whl (50 kB)\n",
      "     ---------------------------------------- 50.5/50.5 KB 1.3 MB/s eta 0:00:00\n",
      "Collecting websockets>=10.0\n",
      "  Downloading websockets-10.4-cp310-cp310-win_amd64.whl (101 kB)\n",
      "     ------------------------------------ 101.4/101.4 KB 829.1 kB/s eta 0:00:00\n",
      "Requirement already satisfied: fsspec in c:\\users\\mamoud saeed\\appdata\\local\\programs\\python\\python310\\lib\\site-packages (from gradio) (2022.8.2)\n",
      "Collecting uvicorn\n",
      "  Downloading uvicorn-0.21.1-py3-none-any.whl (57 kB)\n",
      "     ---------------------------------------- 57.8/57.8 KB 1.0 MB/s eta 0:00:00\n",
      "Requirement already satisfied: pandas in c:\\users\\mamoud saeed\\appdata\\local\\programs\\python\\python310\\lib\\site-packages (from gradio) (1.4.2)\n",
      "Collecting aiofiles\n",
      "  Downloading aiofiles-23.1.0-py3-none-any.whl (14 kB)\n",
      "Requirement already satisfied: pillow in c:\\users\\mamoud saeed\\appdata\\local\\programs\\python\\python310\\lib\\site-packages (from gradio) (9.1.0)\n",
      "Requirement already satisfied: matplotlib in c:\\users\\mamoud saeed\\appdata\\local\\programs\\python\\python310\\lib\\site-packages (from gradio) (3.5.2)\n",
      "Collecting markdown-it-py[linkify]>=2.0.0\n",
      "  Downloading markdown_it_py-2.2.0-py3-none-any.whl (84 kB)\n",
      "     ---------------------------------------- 84.5/84.5 KB 1.2 MB/s eta 0:00:00\n",
      "Requirement already satisfied: pyyaml in c:\\users\\mamoud saeed\\appdata\\local\\programs\\python\\python310\\lib\\site-packages (from gradio) (6.0)\n",
      "Collecting ffmpy\n",
      "  Downloading ffmpy-0.3.0.tar.gz (4.8 kB)\n",
      "  Preparing metadata (setup.py): started\n",
      "  Preparing metadata (setup.py): finished with status 'done'\n",
      "Requirement already satisfied: markupsafe in c:\\users\\mamoud saeed\\appdata\\local\\programs\\python\\python310\\lib\\site-packages (from gradio) (2.1.1)\n",
      "Collecting semantic-version\n",
      "  Using cached semantic_version-2.10.0-py2.py3-none-any.whl (15 kB)\n",
      "Collecting orjson\n",
      "  Downloading orjson-3.8.9-cp310-none-win_amd64.whl (202 kB)\n",
      "     ------------------------------------ 202.1/202.1 KB 876.0 kB/s eta 0:00:00\n",
      "Requirement already satisfied: numpy in c:\\users\\mamoud saeed\\appdata\\local\\programs\\python\\python310\\lib\\site-packages (from gradio) (1.22.3)\n",
      "Collecting httpx\n",
      "  Downloading httpx-0.23.3-py3-none-any.whl (71 kB)\n",
      "     -------------------------------------- 71.5/71.5 KB 987.6 kB/s eta 0:00:00\n",
      "Collecting huggingface-hub\n",
      "  Using cached huggingface_hub-0.13.3-py3-none-any.whl (199 kB)\n",
      "Requirement already satisfied: aiohttp in c:\\users\\mamoud saeed\\appdata\\local\\programs\\python\\python310\\lib\\site-packages (from gradio) (3.8.1)\n",
      "Requirement already satisfied: requests in c:\\users\\mamoud saeed\\appdata\\local\\programs\\python\\python310\\lib\\site-packages (from gradio) (2.27.1)\n",
      "Collecting pydub\n",
      "  Downloading pydub-0.25.1-py2.py3-none-any.whl (32 kB)\n",
      "Collecting jsonschema>=3.0\n",
      "  Using cached jsonschema-4.17.3-py3-none-any.whl (90 kB)\n",
      "Requirement already satisfied: entrypoints in c:\\users\\mamoud saeed\\appdata\\local\\programs\\python\\python310\\lib\\site-packages (from altair>=4.2.0->gradio) (0.4)\n",
      "Collecting toolz\n",
      "  Using cached toolz-0.12.0-py3-none-any.whl (55 kB)\n",
      "Requirement already satisfied: filelock in c:\\users\\mamoud saeed\\appdata\\local\\programs\\python\\python310\\lib\\site-packages (from huggingface-hub->gradio) (3.8.0)\n",
      "Requirement already satisfied: tqdm>=4.42.1 in c:\\users\\mamoud saeed\\appdata\\local\\programs\\python\\python310\\lib\\site-packages (from huggingface-hub->gradio) (4.64.0)\n",
      "Requirement already satisfied: packaging>=20.9 in c:\\users\\mamoud saeed\\appdata\\local\\programs\\python\\python310\\lib\\site-packages (from huggingface-hub->gradio) (21.3)\n",
      "Collecting mdurl~=0.1\n",
      "  Downloading mdurl-0.1.2-py3-none-any.whl (10.0 kB)\n",
      "Collecting linkify-it-py<3,>=1\n",
      "  Downloading linkify_it_py-2.0.0-py3-none-any.whl (19 kB)\n",
      "Requirement already satisfied: python-dateutil>=2.8.1 in c:\\users\\mamoud saeed\\appdata\\local\\programs\\python\\python310\\lib\\site-packages (from pandas->gradio) (2.8.2)\n",
      "Requirement already satisfied: pytz>=2020.1 in c:\\users\\mamoud saeed\\appdata\\local\\programs\\python\\python310\\lib\\site-packages (from pandas->gradio) (2022.1)\n",
      "Requirement already satisfied: frozenlist>=1.1.1 in c:\\users\\mamoud saeed\\appdata\\local\\programs\\python\\python310\\lib\\site-packages (from aiohttp->gradio) (1.3.1)\n",
      "Requirement already satisfied: async-timeout<5.0,>=4.0.0a3 in c:\\users\\mamoud saeed\\appdata\\local\\programs\\python\\python310\\lib\\site-packages (from aiohttp->gradio) (4.0.2)\n",
      "Requirement already satisfied: aiosignal>=1.1.2 in c:\\users\\mamoud saeed\\appdata\\local\\programs\\python\\python310\\lib\\site-packages (from aiohttp->gradio) (1.2.0)\n",
      "Requirement already satisfied: charset-normalizer<3.0,>=2.0 in c:\\users\\mamoud saeed\\appdata\\local\\programs\\python\\python310\\lib\\site-packages (from aiohttp->gradio) (2.0.12)\n",
      "Requirement already satisfied: attrs>=17.3.0 in c:\\users\\mamoud saeed\\appdata\\local\\programs\\python\\python310\\lib\\site-packages (from aiohttp->gradio) (22.1.0)\n",
      "Requirement already satisfied: multidict<7.0,>=4.5 in c:\\users\\mamoud saeed\\appdata\\local\\programs\\python\\python310\\lib\\site-packages (from aiohttp->gradio) (6.0.2)\n",
      "Requirement already satisfied: yarl<2.0,>=1.0 in c:\\users\\mamoud saeed\\appdata\\local\\programs\\python\\python310\\lib\\site-packages (from aiohttp->gradio) (1.8.1)\n",
      "Collecting starlette<0.27.0,>=0.26.1\n",
      "  Downloading starlette-0.26.1-py3-none-any.whl (66 kB)\n",
      "     ---------------------------------------- 66.9/66.9 KB 1.2 MB/s eta 0:00:00\n",
      "Collecting sniffio\n",
      "  Using cached sniffio-1.3.0-py3-none-any.whl (10 kB)\n",
      "Collecting rfc3986[idna2008]<2,>=1.3\n",
      "  Using cached rfc3986-1.5.0-py2.py3-none-any.whl (31 kB)\n",
      "Requirement already satisfied: certifi in c:\\users\\mamoud saeed\\appdata\\local\\programs\\python\\python310\\lib\\site-packages (from httpx->gradio) (2021.10.8)\n",
      "Collecting httpcore<0.17.0,>=0.15.0\n",
      "  Downloading httpcore-0.16.3-py3-none-any.whl (69 kB)\n",
      "     -------------------------------------- 69.6/69.6 KB 631.1 kB/s eta 0:00:00\n",
      "Requirement already satisfied: pyparsing>=2.2.1 in c:\\users\\mamoud saeed\\appdata\\local\\programs\\python\\python310\\lib\\site-packages (from matplotlib->gradio) (3.0.9)\n",
      "Requirement already satisfied: fonttools>=4.22.0 in c:\\users\\mamoud saeed\\appdata\\local\\programs\\python\\python310\\lib\\site-packages (from matplotlib->gradio) (4.33.3)\n",
      "Requirement already satisfied: cycler>=0.10 in c:\\users\\mamoud saeed\\appdata\\local\\programs\\python\\python310\\lib\\site-packages (from matplotlib->gradio) (0.11.0)\n",
      "Requirement already satisfied: kiwisolver>=1.0.1 in c:\\users\\mamoud saeed\\appdata\\local\\programs\\python\\python310\\lib\\site-packages (from matplotlib->gradio) (1.4.2)\n",
      "Requirement already satisfied: urllib3<1.27,>=1.21.1 in c:\\users\\mamoud saeed\\appdata\\local\\programs\\python\\python310\\lib\\site-packages (from requests->gradio) (1.26.9)\n",
      "Requirement already satisfied: idna<4,>=2.5 in c:\\users\\mamoud saeed\\appdata\\local\\programs\\python\\python310\\lib\\site-packages (from requests->gradio) (3.3)\n",
      "Collecting h11>=0.8\n",
      "  Using cached h11-0.14.0-py3-none-any.whl (58 kB)\n",
      "Requirement already satisfied: click>=7.0 in c:\\users\\mamoud saeed\\appdata\\local\\programs\\python\\python310\\lib\\site-packages (from uvicorn->gradio) (8.1.3)\n",
      "Requirement already satisfied: colorama in c:\\users\\mamoud saeed\\appdata\\local\\programs\\python\\python310\\lib\\site-packages (from click>=7.0->uvicorn->gradio) (0.4.4)\n",
      "Collecting anyio<5.0,>=3.0\n",
      "  Downloading anyio-3.6.2-py3-none-any.whl (80 kB)\n",
      "     -------------------------------------- 80.6/80.6 KB 645.7 kB/s eta 0:00:00\n",
      "Collecting pyrsistent!=0.17.0,!=0.17.1,!=0.17.2,>=0.14.0\n",
      "  Downloading pyrsistent-0.19.3-cp310-cp310-win_amd64.whl (62 kB)\n",
      "     ---------------------------------------- 62.7/62.7 KB 1.7 MB/s eta 0:00:00\n",
      "Collecting uc-micro-py\n",
      "  Downloading uc_micro_py-1.0.1-py3-none-any.whl (6.2 kB)\n",
      "Requirement already satisfied: six>=1.5 in c:\\users\\mamoud saeed\\appdata\\local\\programs\\python\\python310\\lib\\site-packages (from python-dateutil>=2.8.1->pandas->gradio) (1.16.0)\n",
      "Building wheels for collected packages: ffmpy\n",
      "  Building wheel for ffmpy (setup.py): started\n",
      "  Building wheel for ffmpy (setup.py): finished with status 'done'\n",
      "  Created wheel for ffmpy: filename=ffmpy-0.3.0-py3-none-any.whl size=4712 sha256=43f3fbcbca7874acf1a84166430f204b5a9252d9ac8b3b40ad65dd2c6c122104\n",
      "  Stored in directory: c:\\users\\mamoud saeed\\appdata\\local\\pip\\cache\\wheels\\0c\\c2\\0e\\3b9c6845c6a4e35beb90910cc70d9ac9ab5d47402bd62af0df\n",
      "Successfully built ffmpy\n",
      "Installing collected packages: rfc3986, pydub, ffmpy, websockets, uc-micro-py, toolz, sniffio, semantic-version, python-multipart, pyrsistent, orjson, mdurl, h11, aiofiles, uvicorn, markdown-it-py, linkify-it-py, jsonschema, huggingface-hub, anyio, starlette, mdit-py-plugins, httpcore, altair, httpx, fastapi, gradio\n",
      "  Attempting uninstall: huggingface-hub\n",
      "    Found existing installation: huggingface-hub 0.9.1\n",
      "    Uninstalling huggingface-hub-0.9.1:\n",
      "      Successfully uninstalled huggingface-hub-0.9.1\n",
      "Successfully installed aiofiles-23.1.0 altair-4.2.2 anyio-3.6.2 fastapi-0.95.0 ffmpy-0.3.0 gradio-3.23.0 h11-0.14.0 httpcore-0.16.3 httpx-0.23.3 huggingface-hub-0.13.3 jsonschema-4.17.3 linkify-it-py-2.0.0 markdown-it-py-2.2.0 mdit-py-plugins-0.3.3 mdurl-0.1.2 orjson-3.8.9 pydub-0.25.1 pyrsistent-0.19.3 python-multipart-0.0.6 rfc3986-1.5.0 semantic-version-2.10.0 sniffio-1.3.0 starlette-0.26.1 toolz-0.12.0 uc-micro-py-1.0.1 uvicorn-0.21.1 websockets-10.4\n",
      "Note: you may need to restart the kernel to use updated packages.\n"
     ]
    },
    {
     "name": "stderr",
     "output_type": "stream",
     "text": [
      "WARNING: You are using pip version 22.0.4; however, version 23.0.1 is available.\n",
      "You should consider upgrading via the 'c:\\Users\\MAMOUD SAEED\\AppData\\Local\\Programs\\Python\\Python310\\python.exe -m pip install --upgrade pip' command.\n"
     ]
    }
   ],
   "source": [
    "%pip install gradio\n"
   ]
  },
  {
   "cell_type": "code",
   "execution_count": 3,
   "metadata": {},
   "outputs": [
    {
     "name": "stderr",
     "output_type": "stream",
     "text": [
      "c:\\Users\\MAMOUD SAEED\\AppData\\Local\\Programs\\Python\\Python310\\lib\\site-packages\\tqdm\\auto.py:22: TqdmWarning: IProgress not found. Please update jupyter and ipywidgets. See https://ipywidgets.readthedocs.io/en/stable/user_install.html\n",
      "  from .autonotebook import tqdm as notebook_tqdm\n",
      "c:\\Users\\MAMOUD SAEED\\AppData\\Local\\Programs\\Python\\Python310\\lib\\site-packages\\gradio\\inputs.py:293: UserWarning: Usage of gradio.inputs is deprecated, and will not be supported in the future, please import your components from gradio.components\n",
      "  warnings.warn(\n",
      "c:\\Users\\MAMOUD SAEED\\AppData\\Local\\Programs\\Python\\Python310\\lib\\site-packages\\gradio\\deprecation.py:40: UserWarning: `optional` parameter is deprecated, and it has no effect\n",
      "  warnings.warn(value)\n",
      "c:\\Users\\MAMOUD SAEED\\AppData\\Local\\Programs\\Python\\Python310\\lib\\site-packages\\gradio\\outputs.py:22: UserWarning: Usage of gradio.outputs is deprecated, and will not be supported in the future, please import your components from gradio.components\n",
      "  warnings.warn(\n"
     ]
    },
    {
     "name": "stdout",
     "output_type": "stream",
     "text": [
      "Running on local URL:  http://127.0.0.1:7860\n",
      "\n",
      "To create a public link, set `share=True` in `launch()`.\n"
     ]
    },
    {
     "data": {
      "text/html": [
       "<div><iframe src=\"http://127.0.0.1:7860/\" width=\"100%\" height=\"500\" allow=\"autoplay; camera; microphone; clipboard-read; clipboard-write;\" frameborder=\"0\" allowfullscreen></iframe></div>"
      ],
      "text/plain": [
       "<IPython.core.display.HTML object>"
      ]
     },
     "metadata": {},
     "output_type": "display_data"
    },
    {
     "data": {
      "text/plain": []
     },
     "execution_count": 3,
     "metadata": {},
     "output_type": "execute_result"
    }
   ],
   "source": [
    "import gradio as gr\n",
    "\n",
    "def extract_text_from_video(input_video):\n",
    "    # Your code to extract text from the video goes here\n",
    "    # You can use a library like OpenCV to process the video frames\n",
    "    # and an OCR library like PyTesseract to extract text from each frame\n",
    "    # Return the final output text as a string\n",
    "    output_text = \"Text extracted from the video.\"\n",
    "    return output_text\n",
    "\n",
    "input_video = gr.inputs.Video(type=\"mp4\", label=\"Upload a video\")\n",
    "output_text = gr.outputs.Textbox(label=\"Extracted text\")\n",
    "\n",
    "gr.Interface(fn=extract_text_from_video, inputs=input_video, outputs=output_text, title=\"Video to Text Extraction\").launch()\n"
   ]
  }
 ],
 "metadata": {
  "kernelspec": {
   "display_name": "Python 3",
   "language": "python",
   "name": "python3"
  },
  "language_info": {
   "codemirror_mode": {
    "name": "ipython",
    "version": 3
   },
   "file_extension": ".py",
   "mimetype": "text/x-python",
   "name": "python",
   "nbconvert_exporter": "python",
   "pygments_lexer": "ipython3",
   "version": "3.10.4"
  },
  "orig_nbformat": 4
 },
 "nbformat": 4,
 "nbformat_minor": 2
}
